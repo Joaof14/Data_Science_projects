{
 "cells": [
  {
   "cell_type": "markdown",
   "id": "55710970",
   "metadata": {},
   "source": [
    "# Série temporal de Concentração de CO2 na Atmosfera"
   ]
  },
  {
   "cell_type": "code",
   "execution_count": 2,
   "id": "e22b1389",
   "metadata": {},
   "outputs": [],
   "source": [
    "#inicializações\n",
    "import numpy as np\n",
    "import pandas as pd\n",
    "import matplotlib.pyplot as plt\n",
    "from statsmodels.tsa.holtwinters import ExponentialSmoothing\n",
    "from urllib.request import urlopen\n",
    "import datetime as dt"
   ]
  },
  {
   "cell_type": "markdown",
   "id": "86d6046f",
   "metadata": {},
   "source": [
    "## Extração de dados"
   ]
  },
  {
   "cell_type": "code",
   "execution_count": 3,
   "id": "2b20a97f",
   "metadata": {},
   "outputs": [],
   "source": [
    "url = 'https://gml.noaa.gov/webdata/ccgg/trends/co2/co2_mm_mlo.txt'"
   ]
  },
  {
   "cell_type": "code",
   "execution_count": 4,
   "id": "1a2412e1",
   "metadata": {
    "scrolled": true
   },
   "outputs": [],
   "source": [
    "df = pd.read_csv(url,delim_whitespace=True, comment= '#', header = None, names = ['Year','Month','Decimal Date', 'Monthly Average', 'de-seasonalized', '#Days', 'St.Dev of days', 'unc. of mon mean'])"
   ]
  },
  {
   "cell_type": "code",
   "execution_count": 5,
   "id": "db29da42",
   "metadata": {
    "scrolled": true
   },
   "outputs": [
    {
     "data": {
      "text/html": [
       "<div>\n",
       "<style scoped>\n",
       "    .dataframe tbody tr th:only-of-type {\n",
       "        vertical-align: middle;\n",
       "    }\n",
       "\n",
       "    .dataframe tbody tr th {\n",
       "        vertical-align: top;\n",
       "    }\n",
       "\n",
       "    .dataframe thead th {\n",
       "        text-align: right;\n",
       "    }\n",
       "</style>\n",
       "<table border=\"1\" class=\"dataframe\">\n",
       "  <thead>\n",
       "    <tr style=\"text-align: right;\">\n",
       "      <th></th>\n",
       "      <th>Year</th>\n",
       "      <th>Month</th>\n",
       "      <th>Decimal Date</th>\n",
       "      <th>Monthly Average</th>\n",
       "      <th>de-seasonalized</th>\n",
       "      <th>#Days</th>\n",
       "      <th>St.Dev of days</th>\n",
       "      <th>unc. of mon mean</th>\n",
       "    </tr>\n",
       "  </thead>\n",
       "  <tbody>\n",
       "    <tr>\n",
       "      <th>123</th>\n",
       "      <td>1968</td>\n",
       "      <td>6</td>\n",
       "      <td>1968.4563</td>\n",
       "      <td>325.36</td>\n",
       "      <td>323.19</td>\n",
       "      <td>-1</td>\n",
       "      <td>-9.99</td>\n",
       "      <td>-0.99</td>\n",
       "    </tr>\n",
       "    <tr>\n",
       "      <th>660</th>\n",
       "      <td>2013</td>\n",
       "      <td>3</td>\n",
       "      <td>2013.2083</td>\n",
       "      <td>397.66</td>\n",
       "      <td>396.07</td>\n",
       "      <td>30</td>\n",
       "      <td>0.71</td>\n",
       "      <td>0.25</td>\n",
       "    </tr>\n",
       "    <tr>\n",
       "      <th>718</th>\n",
       "      <td>2018</td>\n",
       "      <td>1</td>\n",
       "      <td>2018.0417</td>\n",
       "      <td>408.15</td>\n",
       "      <td>407.83</td>\n",
       "      <td>29</td>\n",
       "      <td>0.55</td>\n",
       "      <td>0.19</td>\n",
       "    </tr>\n",
       "    <tr>\n",
       "      <th>528</th>\n",
       "      <td>2002</td>\n",
       "      <td>3</td>\n",
       "      <td>2002.2083</td>\n",
       "      <td>374.30</td>\n",
       "      <td>372.61</td>\n",
       "      <td>24</td>\n",
       "      <td>0.62</td>\n",
       "      <td>0.24</td>\n",
       "    </tr>\n",
       "    <tr>\n",
       "      <th>533</th>\n",
       "      <td>2002</td>\n",
       "      <td>8</td>\n",
       "      <td>2002.6250</td>\n",
       "      <td>372.03</td>\n",
       "      <td>373.70</td>\n",
       "      <td>28</td>\n",
       "      <td>0.65</td>\n",
       "      <td>0.24</td>\n",
       "    </tr>\n",
       "  </tbody>\n",
       "</table>\n",
       "</div>"
      ],
      "text/plain": [
       "     Year  Month  Decimal Date  Monthly Average  de-seasonalized  #Days  \\\n",
       "123  1968      6     1968.4563           325.36           323.19     -1   \n",
       "660  2013      3     2013.2083           397.66           396.07     30   \n",
       "718  2018      1     2018.0417           408.15           407.83     29   \n",
       "528  2002      3     2002.2083           374.30           372.61     24   \n",
       "533  2002      8     2002.6250           372.03           373.70     28   \n",
       "\n",
       "     St.Dev of days  unc. of mon mean  \n",
       "123           -9.99             -0.99  \n",
       "660            0.71              0.25  \n",
       "718            0.55              0.19  \n",
       "528            0.62              0.24  \n",
       "533            0.65              0.24  "
      ]
     },
     "execution_count": 5,
     "metadata": {},
     "output_type": "execute_result"
    }
   ],
   "source": [
    "df.sample(5)"
   ]
  },
  {
   "cell_type": "code",
   "execution_count": 6,
   "id": "8fd07a1e",
   "metadata": {},
   "outputs": [
    {
     "data": {
      "text/plain": [
       "Index(['Year', 'Month', 'Decimal Date', 'Monthly Average', 'de-seasonalized',\n",
       "       '#Days', 'St.Dev of days', 'unc. of mon mean'],\n",
       "      dtype='object')"
      ]
     },
     "execution_count": 6,
     "metadata": {},
     "output_type": "execute_result"
    }
   ],
   "source": [
    "df.columns"
   ]
  },
  {
   "cell_type": "markdown",
   "id": "4ae60f76",
   "metadata": {},
   "source": [
    "## Pré-processamento dos dados"
   ]
  },
  {
   "cell_type": "code",
   "execution_count": 7,
   "id": "21b5b087",
   "metadata": {},
   "outputs": [
    {
     "data": {
      "text/plain": [
       "Year            1958.0000\n",
       "Decimal Date    1958.2027\n",
       "dtype: float64"
      ]
     },
     "execution_count": 7,
     "metadata": {},
     "output_type": "execute_result"
    }
   ],
   "source": [
    "#Início do registro\n",
    "df[['Year','Decimal Date']].min()"
   ]
  },
  {
   "cell_type": "code",
   "execution_count": 8,
   "id": "4fdfce58",
   "metadata": {},
   "outputs": [
    {
     "data": {
      "text/plain": [
       "Year            2023.000\n",
       "Decimal Date    2023.625\n",
       "dtype: float64"
      ]
     },
     "execution_count": 8,
     "metadata": {},
     "output_type": "execute_result"
    }
   ],
   "source": [
    "#último registro\n",
    "df[['Year','Decimal Date']].max()"
   ]
  },
  {
   "cell_type": "code",
   "execution_count": 9,
   "id": "0cd63f05",
   "metadata": {},
   "outputs": [
    {
     "name": "stdout",
     "output_type": "stream",
     "text": [
      "<class 'pandas.core.frame.DataFrame'>\n",
      "RangeIndex: 786 entries, 0 to 785\n",
      "Data columns (total 8 columns):\n",
      " #   Column            Non-Null Count  Dtype  \n",
      "---  ------            --------------  -----  \n",
      " 0   Year              786 non-null    int64  \n",
      " 1   Month             786 non-null    int64  \n",
      " 2   Decimal Date      786 non-null    float64\n",
      " 3   Monthly Average   786 non-null    float64\n",
      " 4   de-seasonalized   786 non-null    float64\n",
      " 5   #Days             786 non-null    int64  \n",
      " 6   St.Dev of days    786 non-null    float64\n",
      " 7   unc. of mon mean  786 non-null    float64\n",
      "dtypes: float64(5), int64(3)\n",
      "memory usage: 49.2 KB\n"
     ]
    }
   ],
   "source": [
    "df.info()"
   ]
  },
  {
   "cell_type": "code",
   "execution_count": 10,
   "id": "def8ed4c",
   "metadata": {},
   "outputs": [
    {
     "data": {
      "text/plain": [
       "Year                0\n",
       "Month               0\n",
       "Decimal Date        0\n",
       "Monthly Average     0\n",
       "de-seasonalized     0\n",
       "#Days               0\n",
       "St.Dev of days      0\n",
       "unc. of mon mean    0\n",
       "dtype: int64"
      ]
     },
     "execution_count": 10,
     "metadata": {},
     "output_type": "execute_result"
    }
   ],
   "source": [
    "df.isna().sum()"
   ]
  },
  {
   "cell_type": "code",
   "execution_count": 11,
   "id": "14d21f10",
   "metadata": {},
   "outputs": [],
   "source": [
    "df['Date'] = df['Year'].map(str) + '-' +  df['Month'].map(str)"
   ]
  },
  {
   "cell_type": "code",
   "execution_count": 24,
   "id": "8f0ff455",
   "metadata": {},
   "outputs": [
    {
     "ename": "AttributeError",
     "evalue": "'Series' object has no attribute 'strftime'",
     "output_type": "error",
     "traceback": [
      "\u001b[0;31m---------------------------------------------------------------------------\u001b[0m",
      "\u001b[0;31mAttributeError\u001b[0m                            Traceback (most recent call last)",
      "\u001b[0;32m/tmp/ipykernel_14597/3743183638.py\u001b[0m in \u001b[0;36m<module>\u001b[0;34m\u001b[0m\n\u001b[0;32m----> 1\u001b[0;31m \u001b[0mdf\u001b[0m\u001b[0;34m[\u001b[0m\u001b[0;34m'Date'\u001b[0m\u001b[0;34m]\u001b[0m \u001b[0;34m=\u001b[0m \u001b[0mpd\u001b[0m\u001b[0;34m.\u001b[0m\u001b[0mto_datetime\u001b[0m\u001b[0;34m(\u001b[0m\u001b[0mdf\u001b[0m\u001b[0;34m[\u001b[0m\u001b[0;34m'Date'\u001b[0m\u001b[0;34m]\u001b[0m\u001b[0;34m)\u001b[0m\u001b[0;34m.\u001b[0m\u001b[0mstrftime\u001b[0m\u001b[0;34m(\u001b[0m\u001b[0;34m'%Y-%m'\u001b[0m\u001b[0;34m)\u001b[0m\u001b[0;34m\u001b[0m\u001b[0;34m\u001b[0m\u001b[0m\n\u001b[0m",
      "\u001b[0;32m~/anaconda3/lib/python3.9/site-packages/pandas/core/generic.py\u001b[0m in \u001b[0;36m__getattr__\u001b[0;34m(self, name)\u001b[0m\n\u001b[1;32m   5900\u001b[0m         ):\n\u001b[1;32m   5901\u001b[0m             \u001b[0;32mreturn\u001b[0m \u001b[0mself\u001b[0m\u001b[0;34m[\u001b[0m\u001b[0mname\u001b[0m\u001b[0;34m]\u001b[0m\u001b[0;34m\u001b[0m\u001b[0;34m\u001b[0m\u001b[0m\n\u001b[0;32m-> 5902\u001b[0;31m         \u001b[0;32mreturn\u001b[0m \u001b[0mobject\u001b[0m\u001b[0;34m.\u001b[0m\u001b[0m__getattribute__\u001b[0m\u001b[0;34m(\u001b[0m\u001b[0mself\u001b[0m\u001b[0;34m,\u001b[0m \u001b[0mname\u001b[0m\u001b[0;34m)\u001b[0m\u001b[0;34m\u001b[0m\u001b[0;34m\u001b[0m\u001b[0m\n\u001b[0m\u001b[1;32m   5903\u001b[0m \u001b[0;34m\u001b[0m\u001b[0m\n\u001b[1;32m   5904\u001b[0m     \u001b[0;32mdef\u001b[0m \u001b[0m__setattr__\u001b[0m\u001b[0;34m(\u001b[0m\u001b[0mself\u001b[0m\u001b[0;34m,\u001b[0m \u001b[0mname\u001b[0m\u001b[0;34m:\u001b[0m \u001b[0mstr\u001b[0m\u001b[0;34m,\u001b[0m \u001b[0mvalue\u001b[0m\u001b[0;34m)\u001b[0m \u001b[0;34m->\u001b[0m \u001b[0;32mNone\u001b[0m\u001b[0;34m:\u001b[0m\u001b[0;34m\u001b[0m\u001b[0;34m\u001b[0m\u001b[0m\n",
      "\u001b[0;31mAttributeError\u001b[0m: 'Series' object has no attribute 'strftime'"
     ]
    }
   ],
   "source": [
    "df['Date'] = pd.to_datetime(df['Date'])\n",
    "df['Date'] = pd.strftime('%Y-%m')"
   ]
  },
  {
   "cell_type": "code",
   "execution_count": 22,
   "id": "f3c21433",
   "metadata": {
    "scrolled": true
   },
   "outputs": [
    {
     "data": {
      "text/html": [
       "<div>\n",
       "<style scoped>\n",
       "    .dataframe tbody tr th:only-of-type {\n",
       "        vertical-align: middle;\n",
       "    }\n",
       "\n",
       "    .dataframe tbody tr th {\n",
       "        vertical-align: top;\n",
       "    }\n",
       "\n",
       "    .dataframe thead th {\n",
       "        text-align: right;\n",
       "    }\n",
       "</style>\n",
       "<table border=\"1\" class=\"dataframe\">\n",
       "  <thead>\n",
       "    <tr style=\"text-align: right;\">\n",
       "      <th></th>\n",
       "      <th>Year</th>\n",
       "      <th>Month</th>\n",
       "      <th>Decimal Date</th>\n",
       "      <th>Monthly Average</th>\n",
       "      <th>de-seasonalized</th>\n",
       "      <th>#Days</th>\n",
       "      <th>St.Dev of days</th>\n",
       "      <th>unc. of mon mean</th>\n",
       "      <th>Date</th>\n",
       "    </tr>\n",
       "  </thead>\n",
       "  <tbody>\n",
       "    <tr>\n",
       "      <th>0</th>\n",
       "      <td>1958</td>\n",
       "      <td>3</td>\n",
       "      <td>1958.2027</td>\n",
       "      <td>315.70</td>\n",
       "      <td>314.43</td>\n",
       "      <td>-1</td>\n",
       "      <td>-9.99</td>\n",
       "      <td>-0.99</td>\n",
       "      <td>1958-03-01</td>\n",
       "    </tr>\n",
       "    <tr>\n",
       "      <th>1</th>\n",
       "      <td>1958</td>\n",
       "      <td>4</td>\n",
       "      <td>1958.2877</td>\n",
       "      <td>317.45</td>\n",
       "      <td>315.16</td>\n",
       "      <td>-1</td>\n",
       "      <td>-9.99</td>\n",
       "      <td>-0.99</td>\n",
       "      <td>1958-04-01</td>\n",
       "    </tr>\n",
       "    <tr>\n",
       "      <th>2</th>\n",
       "      <td>1958</td>\n",
       "      <td>5</td>\n",
       "      <td>1958.3699</td>\n",
       "      <td>317.51</td>\n",
       "      <td>314.71</td>\n",
       "      <td>-1</td>\n",
       "      <td>-9.99</td>\n",
       "      <td>-0.99</td>\n",
       "      <td>1958-05-01</td>\n",
       "    </tr>\n",
       "    <tr>\n",
       "      <th>3</th>\n",
       "      <td>1958</td>\n",
       "      <td>6</td>\n",
       "      <td>1958.4548</td>\n",
       "      <td>317.24</td>\n",
       "      <td>315.14</td>\n",
       "      <td>-1</td>\n",
       "      <td>-9.99</td>\n",
       "      <td>-0.99</td>\n",
       "      <td>1958-06-01</td>\n",
       "    </tr>\n",
       "    <tr>\n",
       "      <th>4</th>\n",
       "      <td>1958</td>\n",
       "      <td>7</td>\n",
       "      <td>1958.5370</td>\n",
       "      <td>315.86</td>\n",
       "      <td>315.18</td>\n",
       "      <td>-1</td>\n",
       "      <td>-9.99</td>\n",
       "      <td>-0.99</td>\n",
       "      <td>1958-07-01</td>\n",
       "    </tr>\n",
       "    <tr>\n",
       "      <th>...</th>\n",
       "      <td>...</td>\n",
       "      <td>...</td>\n",
       "      <td>...</td>\n",
       "      <td>...</td>\n",
       "      <td>...</td>\n",
       "      <td>...</td>\n",
       "      <td>...</td>\n",
       "      <td>...</td>\n",
       "      <td>...</td>\n",
       "    </tr>\n",
       "    <tr>\n",
       "      <th>781</th>\n",
       "      <td>2023</td>\n",
       "      <td>4</td>\n",
       "      <td>2023.2917</td>\n",
       "      <td>423.36</td>\n",
       "      <td>420.69</td>\n",
       "      <td>28</td>\n",
       "      <td>0.60</td>\n",
       "      <td>0.22</td>\n",
       "      <td>2023-04-01</td>\n",
       "    </tr>\n",
       "    <tr>\n",
       "      <th>782</th>\n",
       "      <td>2023</td>\n",
       "      <td>5</td>\n",
       "      <td>2023.3750</td>\n",
       "      <td>424.00</td>\n",
       "      <td>420.55</td>\n",
       "      <td>31</td>\n",
       "      <td>0.69</td>\n",
       "      <td>0.24</td>\n",
       "      <td>2023-05-01</td>\n",
       "    </tr>\n",
       "    <tr>\n",
       "      <th>783</th>\n",
       "      <td>2023</td>\n",
       "      <td>6</td>\n",
       "      <td>2023.4583</td>\n",
       "      <td>423.68</td>\n",
       "      <td>421.19</td>\n",
       "      <td>29</td>\n",
       "      <td>0.57</td>\n",
       "      <td>0.20</td>\n",
       "      <td>2023-06-01</td>\n",
       "    </tr>\n",
       "    <tr>\n",
       "      <th>784</th>\n",
       "      <td>2023</td>\n",
       "      <td>7</td>\n",
       "      <td>2023.5417</td>\n",
       "      <td>421.83</td>\n",
       "      <td>421.42</td>\n",
       "      <td>21</td>\n",
       "      <td>0.48</td>\n",
       "      <td>0.20</td>\n",
       "      <td>2023-07-01</td>\n",
       "    </tr>\n",
       "    <tr>\n",
       "      <th>785</th>\n",
       "      <td>2023</td>\n",
       "      <td>8</td>\n",
       "      <td>2023.6250</td>\n",
       "      <td>419.68</td>\n",
       "      <td>421.62</td>\n",
       "      <td>21</td>\n",
       "      <td>0.46</td>\n",
       "      <td>0.19</td>\n",
       "      <td>2023-08-01</td>\n",
       "    </tr>\n",
       "  </tbody>\n",
       "</table>\n",
       "<p>786 rows × 9 columns</p>\n",
       "</div>"
      ],
      "text/plain": [
       "     Year  Month  Decimal Date  Monthly Average  de-seasonalized  #Days  \\\n",
       "0    1958      3     1958.2027           315.70           314.43     -1   \n",
       "1    1958      4     1958.2877           317.45           315.16     -1   \n",
       "2    1958      5     1958.3699           317.51           314.71     -1   \n",
       "3    1958      6     1958.4548           317.24           315.14     -1   \n",
       "4    1958      7     1958.5370           315.86           315.18     -1   \n",
       "..    ...    ...           ...              ...              ...    ...   \n",
       "781  2023      4     2023.2917           423.36           420.69     28   \n",
       "782  2023      5     2023.3750           424.00           420.55     31   \n",
       "783  2023      6     2023.4583           423.68           421.19     29   \n",
       "784  2023      7     2023.5417           421.83           421.42     21   \n",
       "785  2023      8     2023.6250           419.68           421.62     21   \n",
       "\n",
       "     St.Dev of days  unc. of mon mean       Date  \n",
       "0             -9.99             -0.99 1958-03-01  \n",
       "1             -9.99             -0.99 1958-04-01  \n",
       "2             -9.99             -0.99 1958-05-01  \n",
       "3             -9.99             -0.99 1958-06-01  \n",
       "4             -9.99             -0.99 1958-07-01  \n",
       "..              ...               ...        ...  \n",
       "781            0.60              0.22 2023-04-01  \n",
       "782            0.69              0.24 2023-05-01  \n",
       "783            0.57              0.20 2023-06-01  \n",
       "784            0.48              0.20 2023-07-01  \n",
       "785            0.46              0.19 2023-08-01  \n",
       "\n",
       "[786 rows x 9 columns]"
      ]
     },
     "execution_count": 22,
     "metadata": {},
     "output_type": "execute_result"
    }
   ],
   "source": [
    "df"
   ]
  },
  {
   "cell_type": "code",
   "execution_count": 13,
   "id": "152b1d18",
   "metadata": {},
   "outputs": [
    {
     "data": {
      "text/html": [
       "<div>\n",
       "<style scoped>\n",
       "    .dataframe tbody tr th:only-of-type {\n",
       "        vertical-align: middle;\n",
       "    }\n",
       "\n",
       "    .dataframe tbody tr th {\n",
       "        vertical-align: top;\n",
       "    }\n",
       "\n",
       "    .dataframe thead th {\n",
       "        text-align: right;\n",
       "    }\n",
       "</style>\n",
       "<table border=\"1\" class=\"dataframe\">\n",
       "  <thead>\n",
       "    <tr style=\"text-align: right;\">\n",
       "      <th></th>\n",
       "      <th>Decimal Date</th>\n",
       "      <th>Monthly Average</th>\n",
       "      <th>de-seasonalized</th>\n",
       "      <th>#Days</th>\n",
       "      <th>St.Dev of days</th>\n",
       "      <th>unc. of mon mean</th>\n",
       "      <th>Date</th>\n",
       "    </tr>\n",
       "  </thead>\n",
       "  <tbody>\n",
       "    <tr>\n",
       "      <th>0</th>\n",
       "      <td>1958.2027</td>\n",
       "      <td>315.70</td>\n",
       "      <td>314.43</td>\n",
       "      <td>-1</td>\n",
       "      <td>-9.99</td>\n",
       "      <td>-0.99</td>\n",
       "      <td>1958-3</td>\n",
       "    </tr>\n",
       "    <tr>\n",
       "      <th>1</th>\n",
       "      <td>1958.2877</td>\n",
       "      <td>317.45</td>\n",
       "      <td>315.16</td>\n",
       "      <td>-1</td>\n",
       "      <td>-9.99</td>\n",
       "      <td>-0.99</td>\n",
       "      <td>1958-4</td>\n",
       "    </tr>\n",
       "    <tr>\n",
       "      <th>2</th>\n",
       "      <td>1958.3699</td>\n",
       "      <td>317.51</td>\n",
       "      <td>314.71</td>\n",
       "      <td>-1</td>\n",
       "      <td>-9.99</td>\n",
       "      <td>-0.99</td>\n",
       "      <td>1958-5</td>\n",
       "    </tr>\n",
       "    <tr>\n",
       "      <th>3</th>\n",
       "      <td>1958.4548</td>\n",
       "      <td>317.24</td>\n",
       "      <td>315.14</td>\n",
       "      <td>-1</td>\n",
       "      <td>-9.99</td>\n",
       "      <td>-0.99</td>\n",
       "      <td>1958-6</td>\n",
       "    </tr>\n",
       "    <tr>\n",
       "      <th>4</th>\n",
       "      <td>1958.5370</td>\n",
       "      <td>315.86</td>\n",
       "      <td>315.18</td>\n",
       "      <td>-1</td>\n",
       "      <td>-9.99</td>\n",
       "      <td>-0.99</td>\n",
       "      <td>1958-7</td>\n",
       "    </tr>\n",
       "    <tr>\n",
       "      <th>...</th>\n",
       "      <td>...</td>\n",
       "      <td>...</td>\n",
       "      <td>...</td>\n",
       "      <td>...</td>\n",
       "      <td>...</td>\n",
       "      <td>...</td>\n",
       "      <td>...</td>\n",
       "    </tr>\n",
       "    <tr>\n",
       "      <th>781</th>\n",
       "      <td>2023.2917</td>\n",
       "      <td>423.36</td>\n",
       "      <td>420.69</td>\n",
       "      <td>28</td>\n",
       "      <td>0.60</td>\n",
       "      <td>0.22</td>\n",
       "      <td>2023-4</td>\n",
       "    </tr>\n",
       "    <tr>\n",
       "      <th>782</th>\n",
       "      <td>2023.3750</td>\n",
       "      <td>424.00</td>\n",
       "      <td>420.55</td>\n",
       "      <td>31</td>\n",
       "      <td>0.69</td>\n",
       "      <td>0.24</td>\n",
       "      <td>2023-5</td>\n",
       "    </tr>\n",
       "    <tr>\n",
       "      <th>783</th>\n",
       "      <td>2023.4583</td>\n",
       "      <td>423.68</td>\n",
       "      <td>421.19</td>\n",
       "      <td>29</td>\n",
       "      <td>0.57</td>\n",
       "      <td>0.20</td>\n",
       "      <td>2023-6</td>\n",
       "    </tr>\n",
       "    <tr>\n",
       "      <th>784</th>\n",
       "      <td>2023.5417</td>\n",
       "      <td>421.83</td>\n",
       "      <td>421.42</td>\n",
       "      <td>21</td>\n",
       "      <td>0.48</td>\n",
       "      <td>0.20</td>\n",
       "      <td>2023-7</td>\n",
       "    </tr>\n",
       "    <tr>\n",
       "      <th>785</th>\n",
       "      <td>2023.6250</td>\n",
       "      <td>419.68</td>\n",
       "      <td>421.62</td>\n",
       "      <td>21</td>\n",
       "      <td>0.46</td>\n",
       "      <td>0.19</td>\n",
       "      <td>2023-8</td>\n",
       "    </tr>\n",
       "  </tbody>\n",
       "</table>\n",
       "<p>786 rows × 7 columns</p>\n",
       "</div>"
      ],
      "text/plain": [
       "     Decimal Date  Monthly Average  de-seasonalized  #Days  St.Dev of days  \\\n",
       "0       1958.2027           315.70           314.43     -1           -9.99   \n",
       "1       1958.2877           317.45           315.16     -1           -9.99   \n",
       "2       1958.3699           317.51           314.71     -1           -9.99   \n",
       "3       1958.4548           317.24           315.14     -1           -9.99   \n",
       "4       1958.5370           315.86           315.18     -1           -9.99   \n",
       "..            ...              ...              ...    ...             ...   \n",
       "781     2023.2917           423.36           420.69     28            0.60   \n",
       "782     2023.3750           424.00           420.55     31            0.69   \n",
       "783     2023.4583           423.68           421.19     29            0.57   \n",
       "784     2023.5417           421.83           421.42     21            0.48   \n",
       "785     2023.6250           419.68           421.62     21            0.46   \n",
       "\n",
       "     unc. of mon mean    Date  \n",
       "0               -0.99  1958-3  \n",
       "1               -0.99  1958-4  \n",
       "2               -0.99  1958-5  \n",
       "3               -0.99  1958-6  \n",
       "4               -0.99  1958-7  \n",
       "..                ...     ...  \n",
       "781              0.22  2023-4  \n",
       "782              0.24  2023-5  \n",
       "783              0.20  2023-6  \n",
       "784              0.20  2023-7  \n",
       "785              0.19  2023-8  \n",
       "\n",
       "[786 rows x 7 columns]"
      ]
     },
     "execution_count": 13,
     "metadata": {},
     "output_type": "execute_result"
    }
   ],
   "source": [
    "df.drop(labels = ['Year','Month'], axis = 1)"
   ]
  },
  {
   "cell_type": "code",
   "execution_count": 14,
   "id": "b7938372",
   "metadata": {},
   "outputs": [],
   "source": [
    "serie_temporal = df.set_index('Date')[['Decimal Date','Monthly Average']]"
   ]
  },
  {
   "cell_type": "code",
   "execution_count": 15,
   "id": "eab49595",
   "metadata": {},
   "outputs": [
    {
     "data": {
      "text/html": [
       "<div>\n",
       "<style scoped>\n",
       "    .dataframe tbody tr th:only-of-type {\n",
       "        vertical-align: middle;\n",
       "    }\n",
       "\n",
       "    .dataframe tbody tr th {\n",
       "        vertical-align: top;\n",
       "    }\n",
       "\n",
       "    .dataframe thead th {\n",
       "        text-align: right;\n",
       "    }\n",
       "</style>\n",
       "<table border=\"1\" class=\"dataframe\">\n",
       "  <thead>\n",
       "    <tr style=\"text-align: right;\">\n",
       "      <th></th>\n",
       "      <th>Decimal Date</th>\n",
       "      <th>Monthly Average</th>\n",
       "    </tr>\n",
       "    <tr>\n",
       "      <th>Date</th>\n",
       "      <th></th>\n",
       "      <th></th>\n",
       "    </tr>\n",
       "  </thead>\n",
       "  <tbody>\n",
       "    <tr>\n",
       "      <th>1958-3</th>\n",
       "      <td>1958.2027</td>\n",
       "      <td>315.70</td>\n",
       "    </tr>\n",
       "    <tr>\n",
       "      <th>1958-4</th>\n",
       "      <td>1958.2877</td>\n",
       "      <td>317.45</td>\n",
       "    </tr>\n",
       "    <tr>\n",
       "      <th>1958-5</th>\n",
       "      <td>1958.3699</td>\n",
       "      <td>317.51</td>\n",
       "    </tr>\n",
       "    <tr>\n",
       "      <th>1958-6</th>\n",
       "      <td>1958.4548</td>\n",
       "      <td>317.24</td>\n",
       "    </tr>\n",
       "    <tr>\n",
       "      <th>1958-7</th>\n",
       "      <td>1958.5370</td>\n",
       "      <td>315.86</td>\n",
       "    </tr>\n",
       "    <tr>\n",
       "      <th>...</th>\n",
       "      <td>...</td>\n",
       "      <td>...</td>\n",
       "    </tr>\n",
       "    <tr>\n",
       "      <th>2023-4</th>\n",
       "      <td>2023.2917</td>\n",
       "      <td>423.36</td>\n",
       "    </tr>\n",
       "    <tr>\n",
       "      <th>2023-5</th>\n",
       "      <td>2023.3750</td>\n",
       "      <td>424.00</td>\n",
       "    </tr>\n",
       "    <tr>\n",
       "      <th>2023-6</th>\n",
       "      <td>2023.4583</td>\n",
       "      <td>423.68</td>\n",
       "    </tr>\n",
       "    <tr>\n",
       "      <th>2023-7</th>\n",
       "      <td>2023.5417</td>\n",
       "      <td>421.83</td>\n",
       "    </tr>\n",
       "    <tr>\n",
       "      <th>2023-8</th>\n",
       "      <td>2023.6250</td>\n",
       "      <td>419.68</td>\n",
       "    </tr>\n",
       "  </tbody>\n",
       "</table>\n",
       "<p>786 rows × 2 columns</p>\n",
       "</div>"
      ],
      "text/plain": [
       "        Decimal Date  Monthly Average\n",
       "Date                                 \n",
       "1958-3     1958.2027           315.70\n",
       "1958-4     1958.2877           317.45\n",
       "1958-5     1958.3699           317.51\n",
       "1958-6     1958.4548           317.24\n",
       "1958-7     1958.5370           315.86\n",
       "...              ...              ...\n",
       "2023-4     2023.2917           423.36\n",
       "2023-5     2023.3750           424.00\n",
       "2023-6     2023.4583           423.68\n",
       "2023-7     2023.5417           421.83\n",
       "2023-8     2023.6250           419.68\n",
       "\n",
       "[786 rows x 2 columns]"
      ]
     },
     "execution_count": 15,
     "metadata": {},
     "output_type": "execute_result"
    }
   ],
   "source": [
    "serie_temporal"
   ]
  },
  {
   "cell_type": "markdown",
   "id": "a707d3c8",
   "metadata": {},
   "source": [
    "## Visualização dos dados"
   ]
  },
  {
   "cell_type": "code",
   "execution_count": 17,
   "id": "3b7b2a56",
   "metadata": {},
   "outputs": [
    {
     "data": {
      "image/png": "[encoded data removed]",
      "text/plain": [
       "<Figure size 1500x800 with 1 Axes>"
      ]
     },
     "metadata": {},
     "output_type": "display_data"
    }
   ],
   "source": [
    "plt.figure(figsize = (15, 8))\n",
    "plt.plot(serie_temporal)\n",
    "plt.xlabel('CO2 ppm')\n",
    "plt.ylabel('Date')\n",
    "plt.title('Série Temporal da presença de CO2 em ppm')\n",
    "plt.grid(True)\n",
    "plt.show()"
   ]
  },
  {
   "cell_type": "code",
   "execution_count": null,
   "id": "f25683b9",
   "metadata": {},
   "outputs": [],
   "source": []
  }
 ],
 "metadata": {
  "kernelspec": {
   "display_name": "Python 3 (ipykernel)",
   "language": "python",
   "name": "python3"
  },
  "language_info": {
   "codemirror_mode": {
    "name": "ipython",
    "version": 3
   },
   "file_extension": ".py",
   "mimetype": "text/x-python",
   "name": "python",
   "nbconvert_exporter": "python",
   "pygments_lexer": "ipython3",
   "version": "3.9.13"
  }
 },
 "nbformat": 4,
 "nbformat_minor": 5
}
